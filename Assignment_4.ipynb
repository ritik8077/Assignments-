{
 "cells": [
  {
   "cell_type": "markdown",
   "id": "e6df4521",
   "metadata": {},
   "source": [
    "# Q-1 : What exactly is []?\n"
   ]
  },
  {
   "cell_type": "code",
   "execution_count": null,
   "id": "cbd8a45e",
   "metadata": {},
   "outputs": [],
   "source": [
    "In Python, [] is an empty list literal, representing a list with no elements.\n",
    "Lists are a fundamental data structure in Python, used to store collections of items."
   ]
  },
  {
   "cell_type": "markdown",
   "id": "0b346b18",
   "metadata": {},
   "source": [
    "# Q-2 : In a list of values stored in a variable called spam, how would you assign the value &#39;hello&#39; as the\n",
    "third value? (Assume [2, 4, 6, 8, 10] are in spam.)\n"
   ]
  },
  {
   "cell_type": "code",
   "execution_count": null,
   "id": "cf88eb72",
   "metadata": {},
   "outputs": [],
   "source": [
    "To assign the value 'hello' as the third value in the list stored in the variable spam,\n",
    "we can use indexing to access the third element (index 2) and then assign the new value to it.\n",
    "Here's how you can do it:\n",
    "\n",
    "spam = [2, 4, 6, 8, 10]\n",
    "\n",
    "spam[2] = 'hello'\n",
    "\n",
    "print(spam)  # Output: [2, 4, 'hello', 8, 10]\n",
    "\n",
    "\n"
   ]
  },
  {
   "cell_type": "markdown",
   "id": "7e6b04ef",
   "metadata": {},
   "source": [
    "# Q-3 : What is the value of spam[int(int(&#39;3&#39; * 2) / 11)]?"
   ]
  },
  {
   "cell_type": "code",
   "execution_count": null,
   "id": "b81f8345",
   "metadata": {},
   "outputs": [],
   "source": [
    "To find the value of spam[int(int('3' * 2) / 11)], \n",
    "let's break down the expression step by step:\n",
    "\n",
    "int('3' * 2) evaluates to 33. This is because '3' * 2 results in the string '33', and int() converts it to an integer.\n",
    "int('33') / 11 evaluates to 33 / 11, which is 3.\n",
    "spam[3] accesses the element at index 3 in the list spam.\n",
    "Given that spam contains the list ['a', 'b', 'c', 'd'], the value of spam[int(int('3' * 2) / 11)] would be the value at index 3 in the list, which is 'd'.\n",
    "\n",
    "So, the value of spam[int(int('3' * 2) / 11)] is 'd'."
   ]
  },
  {
   "cell_type": "markdown",
   "id": "605f77cc",
   "metadata": {},
   "source": [
    "# Q-4 : What is the value of spam[-1]?"
   ]
  },
  {
   "cell_type": "code",
   "execution_count": null,
   "id": "6606ab9a",
   "metadata": {},
   "outputs": [],
   "source": [
    "In Python, negative indices are used to access elements from the end of a list. -1 refers to the last element,\n",
    "-2 refers to the second-to-last element, and so on.\n",
    "\n",
    "Given that spam contains the list ['a', 'b', 'c', 'd'], spam[-1] accesses the last element of the list, which is 'd'.\n",
    "\n",
    "So, the value of spam[-1] is 'd'."
   ]
  },
  {
   "cell_type": "markdown",
   "id": "ab22c6e0",
   "metadata": {},
   "source": [
    "# Q-5 : What is the value of spam[:2]?"
   ]
  },
  {
   "cell_type": "code",
   "execution_count": null,
   "id": "88498c5a",
   "metadata": {},
   "outputs": [],
   "source": [
    "The expression spam[:2] is called slicing in Python. It extracts a portion of a list starting from the first element (index 0) up to,\n",
    "but not including, the element at index 2.\n",
    "\n",
    "Given that spam contains the list ['a', 'b', 'c', 'd'], spam[:2] slices the list from the beginning \n",
    "up to (but not including) the element at index 2. \n",
    "So, it includes elements at indices 0 and 1.\n",
    "\n",
    "Here's the breakdown:\n",
    "\n",
    "spam[0] is 'a'.\n",
    "spam[1] is 'b'.\n",
    "Therefore, spam[:2] returns a new list ['a', 'b'].\n",
    "\n",
    "So, the value of spam[:2] is ['a', 'b']."
   ]
  },
  {
   "cell_type": "markdown",
   "id": "5cd0c85e",
   "metadata": {},
   "source": [
    "# Q-6 : Let&#39;s pretend bacon has the list [3.14, &#39;cat,&#39; 11, &#39;cat,&#39; True] for the next three questions.\n",
    " What is the value of bacon.index(&#39;cat&#39;)?"
   ]
  },
  {
   "cell_type": "code",
   "execution_count": null,
   "id": "183e9d33",
   "metadata": {},
   "outputs": [],
   "source": [
    "bacon = [3.14, 'cat', 11, 'cat', True]\n",
    "\n",
    "index = bacon.index('cat')\n",
    "\n",
    "print(index)  # Output: 1\n",
    "\n",
    "\n",
    "\n",
    "\n",
    "bacon.index('cat') returns the index of the first occurrence of the string 'cat' in the list bacon.\n",
    "The first occurrence of 'cat' is at index 1.\n",
    "So, the value of bacon.index('cat') is 1.\n",
    "\n",
    "\n",
    "\n",
    "\n",
    "\n"
   ]
  },
  {
   "cell_type": "markdown",
   "id": "86ddd437",
   "metadata": {},
   "source": [
    "# Q-7 : How does bacon.append(99) change the look of the list value in bacon?"
   ]
  },
  {
   "cell_type": "code",
   "execution_count": null,
   "id": "f3c4f3f8",
   "metadata": {},
   "outputs": [],
   "source": [
    "bacon = [3.14, 'cat', 11, 'cat', True]\n",
    "bacon.append(99)\n",
    "bacon = [3.14, 'cat', 11, 'cat', True, 99]   # by using append method in the given list\n",
    "\n",
    "\n",
    "\n",
    "\n",
    "\n",
    "The integer 99 is added to the end of the list bacon. \n",
    "So, the look of the list value in bacon changes to [3.14, 'cat', 11, 'cat', True, 99]."
   ]
  },
  {
   "cell_type": "markdown",
   "id": "3156e655",
   "metadata": {},
   "source": [
    "# Q-8 : How does bacon.remove(&#39;cat&#39;) change the look of the list in bacon?"
   ]
  },
  {
   "cell_type": "code",
   "execution_count": null,
   "id": "213dae36",
   "metadata": {},
   "outputs": [],
   "source": [
    "The remove() method in Python is used to remove the first occurrence of a specified value from a list.\n",
    "When you call bacon.remove('cat'),the first occurrence of the string 'cat' is removed from \n",
    "the list stored in the variable bacon.\n",
    "\n",
    "bacon = [3.14, 'cat', 11, 'cat', True, 99]\n",
    "bacon.remove('cat')\n",
    "bacon = [3.14, 'cat', 11, 'cat', True, 99]\n"
   ]
  },
  {
   "cell_type": "markdown",
   "id": "32a7d336",
   "metadata": {},
   "source": [
    "# Q-9 : What are the list concatenation and list replication operators?"
   ]
  },
  {
   "cell_type": "code",
   "execution_count": null,
   "id": "20e2a719",
   "metadata": {},
   "outputs": [],
   "source": [
    "In Python, the list concatenation operator is +, and the list replication operator is *.\n",
    "\n",
    "\n",
    "List Concatenation Operator (+):\n",
    "\n",
    "list1 = [1, 2, 3]\n",
    "list2 = [4, 5, 6]\n",
    "concatenated_list = list1 + list2\n",
    "print(concatenated_list)  # Output: [1, 2, 3, 4, 5, 6]\n",
    "\n",
    "List Replication Operator (*):\n",
    "\n",
    "original_list = [1, 2, 3]\n",
    "replicated_list = original_list * 3\n",
    "print(replicated_list)  # Output: [1, 2, 3, 1, 2, 3, 1, 2, 3]\n"
   ]
  },
  {
   "cell_type": "markdown",
   "id": "d2b371b8",
   "metadata": {},
   "source": [
    "# Q-10 : What is difference between the list methods append() and insert()?"
   ]
  },
  {
   "cell_type": "code",
   "execution_count": null,
   "id": "51b04205",
   "metadata": {},
   "outputs": [],
   "source": [
    "append():\n",
    "Purpose: The append() method is used to add an element to the end of a list.\n",
    "\n",
    "Syntax: list.append(element)\n",
    "\n",
    "Behavior: The specified element is added as the last element of the list, increasing the list's length by one.\n",
    "    \n",
    "    \n",
    "insert():\n",
    "Purpose: The insert() method is used to insert an element into a specific position in the list.\n",
    "\n",
    "Syntax: list.insert(index, element)\n",
    "\n",
    "Behavior: The specified element is inserted at the specified index in the list. \n",
    "Elements to the right of the insertion point are shifted one position to the right.\n",
    "\n"
   ]
  },
  {
   "cell_type": "markdown",
   "id": "bac1beb2",
   "metadata": {},
   "source": [
    "# Q-11 : What are the two methods for removing items from a list?"
   ]
  },
  {
   "cell_type": "code",
   "execution_count": null,
   "id": "d4c439b9",
   "metadata": {},
   "outputs": [],
   "source": [
    "The two methods for removing items from a list in Python are:\n",
    "\n",
    "remove() Method:\n",
    "\n",
    "The remove() method is used to remove the first occurrence of a specified value from the list.\n",
    "\n",
    "Syntax: list.remove(value)\n",
    "\n",
    "\n",
    "pop() Method:\n",
    "\n",
    "The pop() method is used to remove an element from a specific index (by default, the last index) and return its value.\n",
    "\n",
    "Syntax: value = list.pop(index)\n",
    "\n"
   ]
  },
  {
   "cell_type": "markdown",
   "id": "aa9ce7cf",
   "metadata": {},
   "source": [
    "# Q-12 : Describe how list values and string values are identical. "
   ]
  },
  {
   "cell_type": "code",
   "execution_count": null,
   "id": "fc54e30e",
   "metadata": {},
   "outputs": [],
   "source": [
    "Lists and strings are both types of sequences in Python, and they share several similarities:\n",
    "\n",
    "Sequential Data Structure: Both lists and strings are sequential data structures,\n",
    "meaning they store elements or characters in a specific order.\n",
    "\n",
    "Indexing: Elements in both lists and strings can be accessed using indexing.\n",
    "Each element has a unique index that indicates its position within the sequence. Indexing starts from 0 for the first element.\n",
    "\n",
    "Slicing: Both lists and strings support slicing, which allows you to extract sub-sequences by specifying a range of indices.\n",
    "\n",
    "Iteration: You can iterate over both lists and strings using loops or other iterable operations\n",
    "like for loops and list comprehensions.\n",
    "\n",
    "Length: You can determine the length of both lists and strings using the len() function,\n",
    "which returns the number of elements or characters in the sequence.\n",
    "\n",
    "Concatenation: Both lists and strings support concatenation using the + operator, \n",
    "which combines two sequences into a single sequence.\n",
    "\n",
    "Repetition: Both lists and strings support repetition using the * operator,\n",
    "which replicates the sequence a specified number of times.\n",
    "\n",
    "Membership Testing: You can check if an element or character exists in a list or string using the in and not in operators.\n",
    "\n",
    "Despite these similarities, there are also key differences between lists and strings:\n",
    "\n",
    "Lists are mutable, meaning their elements can be modified after creation, while strings are immutable, \n",
    "meaning their characters cannot be changed after creation.\n",
    "Lists can contain elements of different data types, while strings contain only characters.\n",
    "Lists have methods specifically designed for modifying their contents, \n",
    "such as append(), insert(), remove(), etc., \n",
    "whereas strings have methods for string manipulation, such as upper(), lower(), replace(), etc."
   ]
  },
  {
   "cell_type": "markdown",
   "id": "c8870f62",
   "metadata": {},
   "source": [
    "# Q-13 : What&#39;s the difference between tuples and lists?"
   ]
  },
  {
   "cell_type": "code",
   "execution_count": null,
   "id": "0f41056f",
   "metadata": {},
   "outputs": [],
   "source": [
    "Mutability:\n",
    "Lists are mutable, meaning you can modify, add, or remove elements after the list is created.\n",
    "Tuples are immutable, meaning once a tuple is created, its elements cannot be changed, added, or removed.\n",
    "\n",
    "Syntax:\n",
    "Lists are enclosed in square brackets [].\n",
    "Tuples are enclosed in parentheses ().\n",
    "\n",
    "Usage:\n",
    "Lists are typically used for collections of similar items, where the order and contents may change.\n",
    "Tuples are often used for heterogeneous data (different types of data) and for fixed collections where the order and contents should not change.\n",
    "\n",
    "Performance:\n",
    "Due to their mutability, lists generally consume more memory and have slower performance when iterating over or modifying elements.\n",
    "Tuples are more memory-efficient and have faster performance, especially when used as keys in dictionaries or elements in sets, because they are immutable."
   ]
  },
  {
   "cell_type": "markdown",
   "id": "3954b164",
   "metadata": {},
   "source": [
    "# Q-14 : How do you type a tuple value that only contains the integer 42?"
   ]
  },
  {
   "cell_type": "code",
   "execution_count": 1,
   "id": "3559c644",
   "metadata": {},
   "outputs": [
    {
     "name": "stdout",
     "output_type": "stream",
     "text": [
      "(42,)\n"
     ]
    }
   ],
   "source": [
    "my_tuple = (42,)\n",
    "print(my_tuple)  # Output: (42,)\n"
   ]
  },
  {
   "cell_type": "markdown",
   "id": "26e2b816",
   "metadata": {},
   "source": [
    "# Q-15 : How do you get a list value&#39;s tuple form? How do you get a tuple value&#39;s list form?"
   ]
  },
  {
   "cell_type": "code",
   "execution_count": 2,
   "id": "e22947b5",
   "metadata": {},
   "outputs": [
    {
     "name": "stdout",
     "output_type": "stream",
     "text": [
      "(1, 2, 3)\n",
      "[4, 5, 6]\n"
     ]
    }
   ],
   "source": [
    "# Converting a list to a tuple\n",
    "my_list = [1, 2, 3]\n",
    "tuple_form = tuple(my_list)\n",
    "print(tuple_form)  # Output: (1, 2, 3)\n",
    "\n",
    "# Converting a tuple to a list\n",
    "my_tuple = (4, 5, 6)\n",
    "list_form = list(my_tuple)\n",
    "print(list_form)  # Output: [4, 5, 6]\n"
   ]
  },
  {
   "cell_type": "markdown",
   "id": "a659b67d",
   "metadata": {},
   "source": [
    "# Q-16 : Variables that &quot;contain&quot; list values are not necessarily lists themselves. Instead, what do they\n",
    "contain?"
   ]
  },
  {
   "cell_type": "markdown",
   "id": "c761916d",
   "metadata": {},
   "source": [
    " "
   ]
  },
  {
   "cell_type": "code",
   "execution_count": null,
   "id": "6ce42455",
   "metadata": {},
   "outputs": [],
   "source": [
    "my_list = [1, 2, 3]\n",
    "\n",
    "\n",
    "In this example, my_list does not directly contain the list [1, 2, 3].\n",
    "Instead, it contains a reference to the memory location where the list [1, 2, 3] is stored.\n",
    "This distinction becomes important when you work with multiple variables and modify the list,\n",
    "as all variables pointing to the same list will see the changes."
   ]
  },
  {
   "cell_type": "markdown",
   "id": "628f24e7",
   "metadata": {},
   "source": [
    "# Q-17 : How do you distinguish between copy.copy() and copy.deepcopy()? "
   ]
  },
  {
   "cell_type": "code",
   "execution_count": null,
   "id": "eb0b61d7",
   "metadata": {},
   "outputs": [],
   "source": [
    "In Python, copy.copy() and copy.deepcopy() are used to create copies of objects,\n",
    "but they serve different purposes and behave differently.\n",
    "\n",
    "\n",
    "copy.copy()\n",
    "\n",
    "import copy\n",
    "\n",
    "original_list = [[1, 2, 3], [4, 5, 6]]\n",
    "copied_list = copy.copy(original_list)\n",
    "\n",
    "copied_list[0][0] = 'x'\n",
    "print(original_list)  # Output: [['x', 2, 3], [4, 5, 6]]\n",
    "print(copied_list)    # Output: [['x', 2, 3], [4, 5, 6]]\n",
    "\n",
    "\n",
    "copy.deepcopy()\n",
    "\n",
    "import copy\n",
    "\n",
    "original_list = [[1, 2, 3], [4, 5, 6]]\n",
    "deep_copied_list = copy.deepcopy(original_list)\n",
    "\n",
    "deep_copied_list[0][0] = 'x'\n",
    "print(original_list)      # Output: [[1, 2, 3], [4, 5, 6]]\n",
    "print(deep_copied_list)    \n"
   ]
  }
 ],
 "metadata": {
  "kernelspec": {
   "display_name": "Python 3 (ipykernel)",
   "language": "python",
   "name": "python3"
  },
  "language_info": {
   "codemirror_mode": {
    "name": "ipython",
    "version": 3
   },
   "file_extension": ".py",
   "mimetype": "text/x-python",
   "name": "python",
   "nbconvert_exporter": "python",
   "pygments_lexer": "ipython3",
   "version": "3.11.5"
  }
 },
 "nbformat": 4,
 "nbformat_minor": 5
}
