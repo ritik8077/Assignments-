{
 "cells": [
  {
   "cell_type": "markdown",
   "id": "19e4cd6b",
   "metadata": {},
   "source": [
    "# Q1- What does an empty dictionary&#39;s code look like?"
   ]
  },
  {
   "cell_type": "code",
   "execution_count": 1,
   "id": "c2e71b3d",
   "metadata": {},
   "outputs": [],
   "source": [
    "empty_dict = {}"
   ]
  },
  {
   "cell_type": "markdown",
   "id": "3d29f7cf",
   "metadata": {},
   "source": [
    "# Q2 -What is the value of a dictionary value with the key &#39;foo&#39; and the value 42?"
   ]
  },
  {
   "cell_type": "code",
   "execution_count": 2,
   "id": "5394225c",
   "metadata": {},
   "outputs": [
    {
     "name": "stdout",
     "output_type": "stream",
     "text": [
      "42\n"
     ]
    }
   ],
   "source": [
    "# Define the dictionary\n",
    "my_dict = {'foo': 42}\n",
    "\n",
    "# Access the value associated with the key 'foo'\n",
    "value = my_dict['foo']\n",
    "\n",
    "# Print the value\n",
    "print(value)  # Output will be 42\n"
   ]
  },
  {
   "cell_type": "markdown",
   "id": "576974bf",
   "metadata": {},
   "source": [
    "# Q3 -What is the most significant distinction between a dictionary and a list? "
   ]
  },
  {
   "cell_type": "code",
   "execution_count": null,
   "id": "cfa5ad42",
   "metadata": {},
   "outputs": [],
   "source": [
    "Dictionaries :  store data in key-value pairs, where each key is unique, and you can access values by their corresponding keys.\n",
    "\n",
    "Lists :  store data in an ordered collection of elements, and you access elements by their position (index) in the list.\n",
    "    \n",
    "Key differences:\n",
    "\n",
    "Access Method:\n",
    "Dictionary: Access by key.\n",
    "List: Access by index.\n",
    "\n",
    "Order:\n",
    "Dictionary: As of Python 3.7+, dictionaries maintain insertion order, but this is not the primary feature.\n",
    "List: Always ordered by the sequence of elements.\n",
    "    \n",
    "Uniqueness:\n",
    "Dictionary: Keys must be unique.\n",
    "List: Elements do not have to be unique.\n",
    "\n",
    "    \n",
    "Performance:\n",
    "Dictionary: Generally faster for lookups by key due to the underlying hash table implementation.\n",
    "List: Lookup by index is fast (constant time), but searching for an element is slower (linear time).\n",
    "\n",
    "    \n",
    "Use Case:\n",
    "Dictionary: Suitable for representing associative arrays, mappings, or records with named fields.\n",
    "List: Suitable for ordered collections, stacks, queues, or any scenario where order matters."
   ]
  },
  {
   "cell_type": "markdown",
   "id": "bde64661",
   "metadata": {},
   "source": [
    "# Q4  - What happens if you try to access spam[&#39;foo&#39;] if spam is {&#39;bar&#39;: 100}?"
   ]
  },
  {
   "cell_type": "code",
   "execution_count": null,
   "id": "194eb0b6",
   "metadata": {},
   "outputs": [],
   "source": [
    "\n",
    "If we try to access spam['foo'] when spam is defined as {'bar': 100}, \n",
    "we will encounter a KeyError because the key 'foo' does not exist in the dictionary.\n",
    "\n",
    "spam = {'bar': 100}\n",
    "\n",
    "# Attempt to access a key that does not exist\n",
    "try:\n",
    "    value = spam['foo']\n",
    "except KeyError as e:\n",
    "    print(f\"KeyError: {e}\")\n"
   ]
  },
  {
   "cell_type": "markdown",
   "id": "4f73540a",
   "metadata": {},
   "source": [
    "# Q5 - If a dictionary is stored in spam, what is the difference between the expressions &#39;cat&#39; in spam and\n",
    "&#39;cat&#39; in spam.keys()?"
   ]
  },
  {
   "cell_type": "code",
   "execution_count": null,
   "id": "e7d7611e",
   "metadata": {},
   "outputs": [],
   "source": [
    "In Python, when working with dictionaries,\n",
    "there is a subtle difference between the expressions 'cat' in spam and 'cat' in spam.keys().\n",
    "However, both are typically used to check if a key exists in the dictionary.\n",
    "\n",
    "'cat' in spam:\n",
    "spam = {'bar': 100}\n",
    "result = 'cat' in spam  # Returns False\n",
    "\n",
    "\n",
    "'cat' in spam.keys():\n",
    "spam = {'bar': 100}\n",
    "result = 'cat' in spam.keys()  # Returns False\n"
   ]
  },
  {
   "cell_type": "markdown",
   "id": "d2bf13c7",
   "metadata": {},
   "source": [
    "# Q6 -  Same  as above "
   ]
  },
  {
   "cell_type": "markdown",
   "id": "60f72f6f",
   "metadata": {},
   "source": [
    "# Q7 - What is a shortcut for the following code?\n",
    "if &#39;color&#39; not in spam:\n",
    "spam[&#39;color&#39;] = &#39;black&#39;"
   ]
  },
  {
   "cell_type": "code",
   "execution_count": null,
   "id": "d5c61bc7",
   "metadata": {},
   "outputs": [],
   "source": [
    "A shortcut for the given code can be achieved using the setdefault method of dictionaries. \n",
    "The setdefault method sets a default value for a key if that key is not already present in the dictionary.\n",
    "\n",
    "# original code\n",
    "if 'color' not in spam:\n",
    "    spam['color'] = 'black'\n",
    "\n",
    "# using shortcut    \n",
    "spam.setdefault('color', 'black')\n"
   ]
  },
  {
   "cell_type": "markdown",
   "id": "acbb1a72",
   "metadata": {},
   "source": [
    "# Q8 - How do you &quot;pretty print&quot; dictionary values using which module and function?"
   ]
  },
  {
   "cell_type": "code",
   "execution_count": 4,
   "id": "e59cc45a",
   "metadata": {},
   "outputs": [
    {
     "name": "stdout",
     "output_type": "stream",
     "text": [
      "{'address': {'city': 'Wonderland', 'street': '123 Main St', 'zip': '12345'},\n",
      " 'age': 30,\n",
      " 'hobbies': ['reading', 'hiking', 'coding'],\n",
      " 'name': 'Alice'}\n"
     ]
    }
   ],
   "source": [
    " # The pprint module stands for \"pretty-print\" and is specifically\n",
    " # designed to format data structures in a way that is more readable.\n",
    "\n",
    "import pprint\n",
    "\n",
    "# Define a dictionary with nested data structures\n",
    "spam = {\n",
    "    'name': 'Alice',\n",
    "    'age': 30,\n",
    "    'hobbies': ['reading', 'hiking', 'coding'],\n",
    "    'address': {\n",
    "        'street': '123 Main St',\n",
    "        'city': 'Wonderland',\n",
    "        'zip': '12345'\n",
    "    }\n",
    "}\n",
    "\n",
    "# Pretty print the dictionary\n",
    "pprint.pprint(spam)   \n",
    "\n",
    "# output will be formatted in a more readable way\n"
   ]
  },
  {
   "cell_type": "code",
   "execution_count": null,
   "id": "bc8026b6",
   "metadata": {},
   "outputs": [],
   "source": []
  }
 ],
 "metadata": {
  "kernelspec": {
   "display_name": "Python 3 (ipykernel)",
   "language": "python",
   "name": "python3"
  },
  "language_info": {
   "codemirror_mode": {
    "name": "ipython",
    "version": 3
   },
   "file_extension": ".py",
   "mimetype": "text/x-python",
   "name": "python",
   "nbconvert_exporter": "python",
   "pygments_lexer": "ipython3",
   "version": "3.11.5"
  }
 },
 "nbformat": 4,
 "nbformat_minor": 5
}
