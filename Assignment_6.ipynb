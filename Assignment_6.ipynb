{
 "cells": [
  {
   "cell_type": "markdown",
   "id": "25a6df7a",
   "metadata": {},
   "source": [
    "# Q1 - What are keywords in python? Using the keyword library, print all the python keywords."
   ]
  },
  {
   "cell_type": "code",
   "execution_count": 1,
   "id": "fb2a3a4a",
   "metadata": {},
   "outputs": [
    {
     "name": "stdout",
     "output_type": "stream",
     "text": [
      "['False', 'None', 'True', 'and', 'as', 'assert', 'async', 'await', 'break', 'class', 'continue', 'def', 'del', 'elif', 'else', 'except', 'finally', 'for', 'from', 'global', 'if', 'import', 'in', 'is', 'lambda', 'nonlocal', 'not', 'or', 'pass', 'raise', 'return', 'try', 'while', 'with', 'yield']\n"
     ]
    }
   ],
   "source": [
    "# In Python, keywords are reserved words that have special meanings and are part of the syntax of the language. \n",
    " # we cannot use these keywords as identifiers (variable names, function names, etc.) because they are reserved for special use.\n",
    "\n",
    "import keyword\n",
    "\n",
    "# Print all Python keywords\n",
    "print(keyword.kwlist)\n"
   ]
  },
  {
   "cell_type": "markdown",
   "id": "dad1aaaf",
   "metadata": {},
   "source": [
    "# Q2 - What are the rules to create variables in python?"
   ]
  },
  {
   "cell_type": "code",
   "execution_count": null,
   "id": "680ad640",
   "metadata": {},
   "outputs": [],
   "source": [
    " # Examples of Valid and Invalid Variable Names\n",
    "    \n",
    "# Valid variable names\n",
    "first_name = \"Alice\"\n",
    "last_name = \"Smith\"\n",
    "age = 30\n",
    "_total = 100\n",
    "count1 = 1\n",
    "\n",
    "# Invalid variable names\n",
    "1st_name = \"Alice\"    # Starts with a number\n",
    "last-name = \"Smith\"   # Contains a hyphen\n",
    "total$ = 100          # Contains a special character\n",
    "class = \"Math\"        # Uses a reserved keyword\n"
   ]
  },
  {
   "cell_type": "markdown",
   "id": "4be2c85f",
   "metadata": {},
   "source": [
    "# Q3 - What are the standards and conventions followed for the nomenclature of variables in\n",
    "python to improve code readability and maintainability?"
   ]
  },
  {
   "cell_type": "code",
   "execution_count": null,
   "id": "1207f573",
   "metadata": {},
   "outputs": [],
   "source": [
    "# example for python to improve code readiability and maintainability\n",
    "\n",
    "# Good variable names\n",
    "first_name = \"Alice\"\n",
    "last_name = \"Smith\"\n",
    "user_age = 30\n",
    "total_price = 100.0\n",
    "\n",
    "# Good constant names\n",
    "PI = 3.14159\n",
    "MAX_CONNECTIONS = 100\n",
    "\n",
    "# Good class names\n",
    "class UserProfile:\n",
    "    pass\n",
    "\n",
    "class OrderDetail:\n",
    "    pass\n",
    "\n",
    "# Good module names\n",
    "import user_profile\n",
    "import order_details\n",
    "\n",
    "# Use for loop variables appropriately\n",
    "for index in range(10):\n",
    "    print(index)\n",
    "\n",
    "# Using underscores for unused variables\n",
    "for _ in range(5):\n",
    "    print(\"Hello, World!\")"
   ]
  },
  {
   "cell_type": "markdown",
   "id": "949b7f02",
   "metadata": {},
   "source": [
    "# Q4 - What will happen if a keyword is used as a variable name?"
   ]
  },
  {
   "cell_type": "code",
   "execution_count": null,
   "id": "158f8f51",
   "metadata": {},
   "outputs": [],
   "source": [
    "If a keyword is used as a variable name in Python, it will result in a syntax error. \n",
    "Keywords in Python are reserved for specific purposes and cannot be used as identifiers\n",
    "(such as variable names, function names, etc.)."
   ]
  },
  {
   "cell_type": "markdown",
   "id": "5b3cb0aa",
   "metadata": {},
   "source": [
    "# Q5 - For what purpose def keyword is used?"
   ]
  },
  {
   "cell_type": "code",
   "execution_count": null,
   "id": "00cdcb59",
   "metadata": {},
   "outputs": [],
   "source": [
    "In Python, the def keyword is used to define a function.\n",
    "Functions are blocks of reusable code that perform a specific task. \n",
    "\n",
    "Here's how the def keyword is used and its purpose:\n",
    "\n",
    "Function Definition:\n",
    "The def keyword marks the beginning of a function definition.\n",
    "It is followed by the function name and parentheses ( ), which may include parameters (inputs) the function accepts.\n",
    "The function body, which contains the code to be executed when the function is called, is indented below the def statement.\n",
    "\n",
    "Function Call:\n",
    "After defining a function using def, you can call (execute) the function \n",
    "by using its name followed by parentheses ( ) with appropriate arguments.\n",
    "\n",
    "\n",
    "Purpose:\n",
    "Functions allow you to encapsulate reusable pieces of code, making your programs more modular and easier to manage.\n",
    "They promote code reuse, improve readability, and enable you to break down complex problems into smaller, manageable tasks.\n",
    "\n",
    "\n",
    "Docstring (Optional):\n",
    "Immediately following the def line, you can include a docstring (documentation string) enclosed in triple quotes \"\"\" \"\"\".\n",
    "Docstrings describe the purpose and usage of the function. They are optional but recommended for documenting your code.\n"
   ]
  },
  {
   "cell_type": "markdown",
   "id": "7d1a5e29",
   "metadata": {},
   "source": [
    "# Q6 - What is the operation of this special character ‘\\’?"
   ]
  },
  {
   "cell_type": "code",
   "execution_count": null,
   "id": "0478fb09",
   "metadata": {},
   "outputs": [],
   "source": [
    "Escape Sequences:\n",
    "    '\\n': Represents a newline character.\n",
    "    '\\t': Represents a tab character.\n",
    "    '\\\\': Represents a single backslash character itself.\n",
    "\n",
    "Escaping Quotes:\n",
    "    'He said, \"Hello!\"'\n",
    "    \"She\\'s happy.\""
   ]
  },
  {
   "cell_type": "markdown",
   "id": "43f9d286",
   "metadata": {},
   "source": [
    "# Q7 - Give an example of the following conditions:\n",
    "(i) Homogeneous list\n",
    "(ii) Heterogeneous set\n",
    "(iii) Homogeneous tuple"
   ]
  },
  {
   "cell_type": "code",
   "execution_count": null,
   "id": "7e874a4e",
   "metadata": {},
   "outputs": [],
   "source": [
    "i) Homogeneous List:\n",
    "\n",
    "A homogeneous list contains elements that are all of the same type\n",
    "\n",
    "# Example of a homogeneous list of integers\n",
    "numbers = [1, 2, 3, 4, 5]\n",
    "\n",
    "(ii) Heterogeneous Set:\n",
    "\n",
    "A heterogeneous set contains elements of different types.\n",
    "\n",
    "# Example of a heterogeneous set\n",
    "data_set = {1, 'apple', 3.14, (1, 2, 3)}\n",
    "\n",
    "\n",
    "(iii) Homogeneous Tuple:\n",
    "\n",
    "A homogeneous tuple contains elements that are all of the same type.\n",
    "\n",
    "# Example of a homogeneous tuple of strings\n",
    "fruits = ('apple', 'banana', 'cherry')\n"
   ]
  },
  {
   "cell_type": "markdown",
   "id": "01221cfd",
   "metadata": {},
   "source": [
    "# Q8 - Explain the mutable and immutable data types with proper explanation & examples."
   ]
  },
  {
   "cell_type": "code",
   "execution_count": null,
   "id": "325798a7",
   "metadata": {},
   "outputs": [],
   "source": [
    "Immutable Data Types:\n",
    "Definition: Immutable data types are those whose values cannot be changed after they are created. \n",
    "Any operation that modifies the value of an immutable object actually creates a new object with the modified value.\n",
    "\n",
    "Examples of Immutable Data Types:\n",
    "    x = 10\n",
    "# Trying to modify x will create a new integer object\n",
    "x += 5\n",
    "\n",
    "y = 3.14\n",
    "# Trying to modify y will create a new float object\n",
    "y = y * 2\n",
    "\n",
    "\n",
    "Mutable Data Types:\n",
    "Definition: Mutable data types are those whose values can be changed after they are created.\n",
    "This means you can modify the object without creating a new one.\n",
    "\n",
    "Examples of Mutable Data Types:\n",
    "    \n",
    "my_list = [1, 2, 3]\n",
    "# Modifying a list element\n",
    "my_list[0] = 10\n",
    "\n",
    "\n",
    "my_dict = {'a': 1, 'b': 2}\n",
    "# Modifying a dictionary value\n",
    "my_dict['a'] = 100\n"
   ]
  },
  {
   "cell_type": "markdown",
   "id": "b3d62816",
   "metadata": {},
   "source": [
    "# Q9 - Write a code to create the given structure using only for loop.\n",
    "*\n",
    "***\n",
    "*****\n",
    "*******\n",
    "*********"
   ]
  },
  {
   "cell_type": "code",
   "execution_count": null,
   "id": "010c9e42",
   "metadata": {},
   "outputs": [],
   "source": [
    "Write a code to create the given structure using only for loop.\n",
    "     *\n",
    "    ***\n",
    "   *****\n",
    "  *******\n",
    " *********"
   ]
  },
  {
   "cell_type": "code",
   "execution_count": 1,
   "id": "4b5ad90c",
   "metadata": {},
   "outputs": [
    {
     "name": "stdout",
     "output_type": "stream",
     "text": [
      "    *\n",
      "   ***\n",
      "  *****\n",
      " *******\n",
      "*********\n"
     ]
    }
   ],
   "source": [
    "# Define the number of lines (height) of the pattern\n",
    "height = 5\n",
    "\n",
    "# Outer loop to iterate over each line\n",
    "for i in range(height):\n",
    "    # Print spaces before asterisks\n",
    "    for j in range(height - i - 1):\n",
    "        print(' ', end='')\n",
    "    \n",
    "    # Print asterisks\n",
    "    for k in range(2 * i + 1):\n",
    "        print('*', end='')\n",
    "\n",
    "    # Move to the next line after printing all characters for the current line\n",
    "    print()\n"
   ]
  },
  {
   "cell_type": "code",
   "execution_count": null,
   "id": "a7f44bf9",
   "metadata": {},
   "outputs": [],
   "source": [
    "# Q10-   Write a code to create the given structure using while loop.\n",
    "|||||||||\n",
    "|||||||\n",
    "|||||\n",
    "|||\n",
    "|"
   ]
  },
  {
   "cell_type": "code",
   "execution_count": 2,
   "id": "9e36dbf3",
   "metadata": {},
   "outputs": [
    {
     "name": "stdout",
     "output_type": "stream",
     "text": [
      "|||||||||\n",
      " |||||||\n",
      "  |||||\n",
      "   |||\n",
      "    |\n"
     ]
    }
   ],
   "source": [
    "# Define the number of lines (height) of the pattern\n",
    "height = 5\n",
    "\n",
    "# Initialize variables\n",
    "line_number = 0\n",
    "spaces = 0\n",
    "pipes = 2 * height - 1\n",
    "\n",
    "# Loop until the line_number reaches height\n",
    "while line_number < height:\n",
    "    # Print spaces before pipes\n",
    "    space_count = 0\n",
    "    while space_count < spaces:\n",
    "        print(' ', end='')\n",
    "        space_count += 1\n",
    "    \n",
    "    # Print pipes\n",
    "    pipe_count = 0\n",
    "    while pipe_count < pipes:\n",
    "        print('|', end='')\n",
    "        pipe_count += 1\n",
    "    \n",
    "    # Move to the next line after printing all characters for the current line\n",
    "    print()\n",
    "    \n",
    "    # Update variables for the next iteration\n",
    "    line_number += 1\n",
    "    spaces += 1\n",
    "    pipes -= 2\n"
   ]
  },
  {
   "cell_type": "code",
   "execution_count": null,
   "id": "27b51195",
   "metadata": {},
   "outputs": [],
   "source": []
  }
 ],
 "metadata": {
  "kernelspec": {
   "display_name": "Python 3 (ipykernel)",
   "language": "python",
   "name": "python3"
  },
  "language_info": {
   "codemirror_mode": {
    "name": "ipython",
    "version": 3
   },
   "file_extension": ".py",
   "mimetype": "text/x-python",
   "name": "python",
   "nbconvert_exporter": "python",
   "pygments_lexer": "ipython3",
   "version": "3.11.5"
  }
 },
 "nbformat": 4,
 "nbformat_minor": 5
}
