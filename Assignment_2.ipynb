{
 "cells": [
  {
   "cell_type": "markdown",
   "id": "26268b85",
   "metadata": {},
   "source": [
    "# Question-1 : What are the two values of the Boolean data type? How do you write them?"
   ]
  },
  {
   "cell_type": "code",
   "execution_count": null,
   "id": "a4e7d630",
   "metadata": {},
   "outputs": [],
   "source": [
    "The two values of the Boolean data type are true and false. \n",
    "They are written as:\n",
    "\n",
    "True\n",
    "False"
   ]
  },
  {
   "cell_type": "markdown",
   "id": "c7e91fde",
   "metadata": {},
   "source": [
    "# Question-2 : What are the three different types of Boolean operators?"
   ]
  },
  {
   "cell_type": "code",
   "execution_count": null,
   "id": "62ddb54e",
   "metadata": {},
   "outputs": [],
   "source": [
    "The three different types of Boolean operators are:\n",
    "\n",
    "1 - AND: This operator returns True if both operands are True. Otherwise, it returns False\n",
    "2- OR: This operator returns True if at least one of the operands is True. If both operands are False, it returns False\n",
    "3- NOT: This operator returns the opposite Boolean value of the operand. If the operand is True, it returns False, and if the operand is False, it returns True"
   ]
  },
  {
   "cell_type": "markdown",
   "id": "a53369a1",
   "metadata": {},
   "source": [
    "# Q-3 : Make a list of each Boolean operator&#39;s truth tables (i.e. every possible combination of Boolean\n",
    "values for the operator and what it evaluate )."
   ]
  },
  {
   "cell_type": "code",
   "execution_count": null,
   "id": "2136dbf0",
   "metadata": {},
   "outputs": [],
   "source": [
    "Here are the truth tables for the three Boolean operators: AND, OR, and NOT.\n",
    "AND Operator (AND) A B A AND B\n",
    "\n",
    "True True True True False False False True False False False False\n",
    "\n",
    "OR Operator (OR) A B A OR B\n",
    "\n",
    "True True True True False True False True True False False False\n",
    "\n",
    "NOT Operator (NOT) A NOT A True False False True"
   ]
  },
  {
   "cell_type": "markdown",
   "id": "6b0279ef",
   "metadata": {},
   "source": [
    "# Q-4: What are the values of the following expressions?\n",
    "(5 &gt; 4) and (3 == 5)\n",
    "not (5 &gt; 4)\n",
    "(5 &gt; 4) or (3 == 5)\n",
    "not ((5 &gt; 4) or (3 == 5))\n",
    "(True and True) and (True == False)\n",
    "(not False) or (not True)"
   ]
  },
  {
   "cell_type": "code",
   "execution_count": null,
   "id": "fd406aa2",
   "metadata": {},
   "outputs": [],
   "source": [
    "the values of the expressions are:\n",
    "(5 > 4) and (3 == 5) evaluates to False\n",
    "not (5 > 4) evaluates to False\n",
    "(5 > 4) or (3 == 5) evaluates to True\n",
    "not ((5 > 4) or (3 == 5)) evaluates to False\n",
    "(True and True) and (True == False) evaluates to False\n",
    "(not False) or (not True) evaluates to True"
   ]
  },
  {
   "cell_type": "markdown",
   "id": "30ebb328",
   "metadata": {},
   "source": [
    "# Q-5: What are the six comparison operators?"
   ]
  },
  {
   "cell_type": "code",
   "execution_count": null,
   "id": "20dce9e2",
   "metadata": {},
   "outputs": [],
   "source": [
    "The six comparison operators are:\n",
    "\n",
    "Equal to: ==\n",
    "Not equal to: !=\n",
    "Not equal to: !=\n",
    "Less than: <\n",
    "Greater than or equal to: >=\n",
    "Less than or equal to: <="
   ]
  },
  {
   "cell_type": "markdown",
   "id": "ca048ebb",
   "metadata": {},
   "source": [
    "# Q-6: How do you tell the difference between the equal to and assignment operators?Describe a\n",
    "condition and when you would use one."
   ]
  },
  {
   "cell_type": "code",
   "execution_count": null,
   "id": "ae1e9f7b",
   "metadata": {},
   "outputs": [],
   "source": [
    "The equal to (==) and assignment (=) operators serve different purposes and are used in different contexts:\n",
    "\n",
    "1-Equal to (==)\n",
    "\n",
    "example:    \n",
    "a = 5\n",
    "b = 5\n",
    "if a == b:\n",
    "    print(\"a and b are equal\")\n",
    "\n",
    "2-Assignment (=)\n",
    "\n",
    "example:\n",
    "a = 5\n",
    "b = 10\n",
    "sum = a + b\n",
    "print(sum)\n",
    "In this example, a = 5 assigns the value 5 to the variable a, b = 10 assigns the value 10 to the variable b, and sum = a + b calculates the sum of a and b and assigns the result to the variable sum.\n",
    "\n",
    "3-Example Condition Using Both:\n",
    "    \n",
    "predefined_number = 10  # Assignment\n",
    "user_input = int(input(\"Enter a number: \"))\n",
    "\n",
    "if user_input == predefined_number:  # Comparison\n",
    "    print(\"Correct number!\")\n",
    "else:\n",
    "    print(\"Try again.\")\n",
    "\n",
    "attempts = 0  # Assignment\n",
    "attempts = attempts + 1  # Updating the value using assignment"
   ]
  },
  {
   "cell_type": "markdown",
   "id": "4ab1e206",
   "metadata": {},
   "source": [
    "# Q-7: Identify the three blocks in this code:\n",
    "spam = 0\n",
    "if spam == 10:\n",
    "print(&#39;eggs&#39;)\n",
    "if spam &gt; 5:\n",
    "print(&#39;bacon&#39;)\n",
    "else:\n",
    "print(&#39;ham&#39;)\n",
    "print(&#39;spam&#39;)\n",
    "print(&#39;spam&#39;)"
   ]
  },
  {
   "cell_type": "code",
   "execution_count": 1,
   "id": "b07e7f6b",
   "metadata": {},
   "outputs": [
    {
     "name": "stdout",
     "output_type": "stream",
     "text": [
      "ham\n"
     ]
    }
   ],
   "source": [
    "spam = 0\n",
    "if spam == 10:\n",
    "    print('eggs')  # Block 1\n",
    "if spam > 5:\n",
    "    print('bacon')  # Block 2\n",
    "else:\n",
    "    print('ham')  # Block 3"
   ]
  },
  {
   "cell_type": "markdown",
   "id": "06caa3a1",
   "metadata": {},
   "source": [
    "# Q-8: Write code that prints Hello if 1 is stored in spam, prints Howdy if 2 is stored in spam, and prints\n",
    "Greetings! if anything else is stored in spam."
   ]
  },
  {
   "cell_type": "code",
   "execution_count": 2,
   "id": "55beb219",
   "metadata": {},
   "outputs": [
    {
     "name": "stdout",
     "output_type": "stream",
     "text": [
      "Enter a number for spam: 4\n",
      "Greetings!\n"
     ]
    }
   ],
   "source": [
    "spam = int(input(\"Enter a number for spam: \"))\n",
    "\n",
    "if spam == 1:\n",
    "    print(\"Hello\")\n",
    "elif spam == 2:\n",
    "    print(\"Howdy\")\n",
    "else:\n",
    "    print(\"Greetings!\")"
   ]
  },
  {
   "cell_type": "code",
   "execution_count": null,
   "id": "e74dfde8",
   "metadata": {},
   "outputs": [],
   "source": []
  }
 ],
 "metadata": {
  "kernelspec": {
   "display_name": "Python 3 (ipykernel)",
   "language": "python",
   "name": "python3"
  },
  "language_info": {
   "codemirror_mode": {
    "name": "ipython",
    "version": 3
   },
   "file_extension": ".py",
   "mimetype": "text/x-python",
   "name": "python",
   "nbconvert_exporter": "python",
   "pygments_lexer": "ipython3",
   "version": "3.11.5"
  }
 },
 "nbformat": 4,
 "nbformat_minor": 5
}
