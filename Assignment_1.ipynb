{
 "cells": [
  {
   "cell_type": "markdown",
   "id": "1c5d960f",
   "metadata": {},
   "source": [
    "## Question1"
   ]
  },
  {
   "cell_type": "code",
   "execution_count": null,
   "id": "abf66341",
   "metadata": {},
   "outputs": [],
   "source": [
    "* = \" Expresssion\"\n",
    "'hello' = \"Value\"\n",
    "-87.8 = \"Value\"\n",
    "-  = \"Expressiom\"\n",
    "/  = \"Expression\"\n",
    "+  = \"Expression\"\n",
    "6  = \"Value\""
   ]
  },
  {
   "cell_type": "markdown",
   "id": "80ac72b0",
   "metadata": {},
   "source": [
    "## Q2- What is the difference between string and variable?"
   ]
  },
  {
   "cell_type": "code",
   "execution_count": null,
   "id": "0b5a3799",
   "metadata": {},
   "outputs": [],
   "source": [
    "Sequence of characters like \" hello\" or \"123\" called string.\n",
    "And\n",
    "Varibale is a placeholder where it can store different data types , like var = \"hello\" , var holding a string datatype."
   ]
  },
  {
   "cell_type": "markdown",
   "id": "0619d812",
   "metadata": {},
   "source": [
    "## Q3- Describe three different data types? "
   ]
  },
  {
   "cell_type": "code",
   "execution_count": null,
   "id": "731a509a",
   "metadata": {},
   "outputs": [],
   "source": [
    "Interger(int): Represents whole numbers no decimal , such as -5,45,65 or 2000.\n",
    "String(str): Represents a sequence of characters enclosed in single quote ('') or double quote (\"\").\n",
    "Boolean(bool): Represents a binary value either True or False."
   ]
  },
  {
   "cell_type": "markdown",
   "id": "1e6eecb8",
   "metadata": {},
   "source": [
    "## Q4- What is an expression made up of? What do all expressions do? "
   ]
  },
  {
   "cell_type": "code",
   "execution_count": null,
   "id": "834e5e2f",
   "metadata": {},
   "outputs": [],
   "source": [
    "Expression is a combination of values, variables, operators, and function calls that evaluates to a single value.\n",
    "Expressions can be , like 5 + 3\n",
    "Expressions produce values and value can be of various types: such as integers,floats,strings,or boolean"
   ]
  },
  {
   "cell_type": "markdown",
   "id": "adaf9367",
   "metadata": {},
   "source": [
    "## Q5-This assignment statements, like spam = 10. What is the difference between an\n",
    "expression and a statement?"
   ]
  },
  {
   "cell_type": "code",
   "execution_count": null,
   "id": "c1ed042d",
   "metadata": {},
   "outputs": [],
   "source": [
    "Expressions produce a value, while statements perform actions or control the flow of a program."
   ]
  },
  {
   "cell_type": "markdown",
   "id": "3cec4c9b",
   "metadata": {},
   "source": [
    "## Q6- After running the following code, what does the variable bacon contain?\n",
    "### bacon = 22\n",
    "### bacon + 1"
   ]
  },
  {
   "cell_type": "code",
   "execution_count": null,
   "id": "8cc7ccba",
   "metadata": {},
   "outputs": [],
   "source": [
    "value is not assigned back to bacon so it contains the initial value 22."
   ]
  },
  {
   "cell_type": "markdown",
   "id": "8cf156a2",
   "metadata": {},
   "source": [
    "## Q7- What should the values of the following two terms be?\n",
    "### 'spam' + 'spamspam'\n",
    "### 'spam' * 3 "
   ]
  },
  {
   "cell_type": "code",
   "execution_count": null,
   "id": "74ed73f3",
   "metadata": {},
   "outputs": [],
   "source": [
    "Both terms give the same result: 'spamspamspam' "
   ]
  },
  {
   "cell_type": "markdown",
   "id": "99461fda",
   "metadata": {},
   "source": [
    "## Q8- Why is eggs a valid variable name while 100 is invalid?"
   ]
  },
  {
   "cell_type": "code",
   "execution_count": null,
   "id": "c430c06c",
   "metadata": {},
   "outputs": [],
   "source": [
    "Variable names cannot start with a number.\n",
    "Variable names must start with a letter (a-z, A-Z) or an underscore (_).\n",
    "so eggs is a valid variable name and 100 is not."
   ]
  }
 ],
 "metadata": {
  "kernelspec": {
   "display_name": "Python 3 (ipykernel)",
   "language": "python",
   "name": "python3"
  },
  "language_info": {
   "codemirror_mode": {
    "name": "ipython",
    "version": 3
   },
   "file_extension": ".py",
   "mimetype": "text/x-python",
   "name": "python",
   "nbconvert_exporter": "python",
   "pygments_lexer": "ipython3",
   "version": "3.11.5"
  }
 },
 "nbformat": 4,
 "nbformat_minor": 5
}
