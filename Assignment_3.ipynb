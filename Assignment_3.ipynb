{
 "cells": [
  {
   "cell_type": "markdown",
   "id": "db26eab1",
   "metadata": {},
   "source": [
    "# Q-1 : Why are functions advantageous to have in your programs?"
   ]
  },
  {
   "cell_type": "code",
   "execution_count": null,
   "id": "e6aa2164",
   "metadata": {},
   "outputs": [],
   "source": [
    "Modularity:\n",
    "\n",
    "\n",
    "Reusability: Once a function is defined, it can be reused multiple times throughout the program or in different programs. This reduces redundancy and saves time.\n",
    "\n",
    "    \n",
    "Maintainability: By organizing code into functions, it becomes easier to update and maintain. If a change is required, it can be made in one place, and all parts of the program that use the function will reflect the change.\n",
    "\n",
    "    \n",
    "Readability: Functions help in structuring the code in a way that is easier to read and follow. Each function has a clear purpose, making the overall code more understandable.\n",
    "\n",
    "    \n",
    "Abstraction: Functions allow programmers to abstract away details and focus on higher-level logic. The internal workings of a function can be hidden, enabling users to use the function without needing to understand its internal implementation.\n",
    "\n",
    "    \n",
    "Testing and Debugging: Functions can be tested independently of the rest of the program, making it easier to identify and fix bugs. This modular approach to testing can significantly improve the reliability of the code.\n",
    "\n",
    "    \n",
    "Parameterization: Functions can accept parameters, allowing them to operate on different data inputs. This flexibility makes functions more powerful and versatile.\n",
    "\n",
    "    \n",
    "Scope Management: Functions provide their own scope for variables, reducing the risk of variable name conflicts and accidental interference with other parts of the code."
   ]
  },
  {
   "cell_type": "markdown",
   "id": "aa922617",
   "metadata": {},
   "source": [
    "# Q-2 : When does the code in a function run: when it&#39;s specified or when it&#39;s called?"
   ]
  },
  {
   "cell_type": "code",
   "execution_count": null,
   "id": "a87b8e85",
   "metadata": {},
   "outputs": [],
   "source": [
    "Specifying a Function: This is also known as defining a function\n",
    "    \n",
    "def greet(name):\n",
    "    print(f\"Hello, {name}!\")\n",
    "    \n",
    "Calling a Function: To execute the code inside a function, you need to call the function\n",
    "    \n",
    "greet(\"Alice\")\n",
    "\n",
    "\n",
    "The function greet is specified with a single parameter name and a print statement.\n",
    "The function greet(\"Alice\") is called, which causes the code inside the function (the print statement) to be executed, resulting in the output: Hello, Alice!.\n",
    "Until a function is called, the code inside it does not run."
   ]
  },
  {
   "cell_type": "markdown",
   "id": "80579bff",
   "metadata": {},
   "source": [
    "# Q-3 : What statement creates a function?"
   ]
  },
  {
   "cell_type": "code",
   "execution_count": null,
   "id": "b61da83f",
   "metadata": {},
   "outputs": [],
   "source": [
    "The statement that creates a function is the def statement. In Python, the def keyword is used to define a function, followed by the function name, parentheses, and a colon"
   ]
  },
  {
   "cell_type": "markdown",
   "id": "a93eb155",
   "metadata": {},
   "source": [
    "# Q-4 : What is the difference between a function and a function call?"
   ]
  },
  {
   "cell_type": "code",
   "execution_count": null,
   "id": "7ca743c6",
   "metadata": {},
   "outputs": [],
   "source": [
    "The difference between a function and a function call is foundational in understanding how functions work in programming:\n",
    "\n",
    "Function Definition:\n",
    "\n",
    "A function definition, or simply a function, is the block of code that specifies what the function does. It includes the function name, parameters, and the set of statements that define the function's behavior.\n",
    "\n",
    "\n",
    "Function Call:\n",
    "\n",
    "A function call is the statement that executes the function's code. When you call a function, you provide the necessary arguments for its parameters, causing the function to run and perform its defined task.\n",
    "\n",
    "\n",
    "Key Differences:\n",
    "\n",
    "Purpose:\n",
    "Function Definition: Specifies what the function does and what parameters it takes. It doesn't execute the code.\n",
    "Function Call: Executes the code defined in the function. It runs the function's statements with the provided arguments.\n",
    "\n",
    "Location in Code:\n",
    "Function Definition: Typically found at the beginning of a script or module or organized in a separate file if the function is part of a library.\n",
    "Function Call: Found where the functionality is needed in the program, often in the main part of the script or inside other functions.\n",
    "\n",
    "Syntax:\n",
    "Function Definition: Uses the def keyword followed by the function name and parameters.\n",
    "Function Call: Uses the function name followed by parentheses containing any necessary arguments."
   ]
  },
  {
   "cell_type": "markdown",
   "id": "e58a4064",
   "metadata": {},
   "source": [
    "# Q-5 : How many global scopes are there in a Python program? How many local scopes?"
   ]
  },
  {
   "cell_type": "code",
   "execution_count": null,
   "id": "e5f11c31",
   "metadata": {},
   "outputs": [],
   "source": [
    "Global Scope\n",
    "One Global Scope: There is only one global scope per Python program\n",
    "    \n",
    "global_var = 10  # This is in the global scope\n",
    "\n",
    "def some_function():\n",
    "    print(global_var)  # Accesses the global variable\n",
    "\n",
    "    \n",
    "Local Scopes\n",
    "Multiple Local Scopes: There can be many local scopes in a Python program. Each time a function is called, a new local scope is created for that function call.\n",
    "\n",
    "def function_a():\n",
    "    local_var_a = 5  # This is in the local scope of function_a\n",
    "\n",
    "def function_b():\n",
    "    local_var_b = 10  # This is in the local scope of function_b\n",
    "\n",
    "    def function_c():\n",
    "        local_var_c = 15  # This is in the local scope of function_c\n",
    "\n",
    "function_a()\n",
    "function_b()\n"
   ]
  },
  {
   "cell_type": "markdown",
   "id": "6fbf4ea0",
   "metadata": {},
   "source": [
    "# Q-6 : What happens to variables in a local scope when the function call returns?"
   ]
  },
  {
   "cell_type": "code",
   "execution_count": null,
   "id": "336c1d37",
   "metadata": {},
   "outputs": [],
   "source": [
    "When a function call returns, the local scope associated with that function call is destroyed, and all variables defined within that local scope are deallocated.\n",
    "This means that any variables that were created inside the function cease to exist once the function has finished executing and control has returned to the caller.\n",
    "\n",
    "def example_function():\n",
    "    local_variable = 42\n",
    "    print(local_variable)\n",
    "\n",
    "example_function()\n",
    "# At this point, local_variable no longer exists\n",
    "\n",
    "\n",
    "\n",
    "\n",
    "When example_function is called, a new local scope is created.\n",
    "The variable local_variable is created in this local scope and is accessible only within the function.\n",
    "The function prints the value of local_variable.\n",
    "When the function finishes executing, it returns control to the caller, and the local scope is destroyed.\n",
    "local_variable is deallocated, meaning it no longer exists.\n",
    "\n",
    "def example_function():\n",
    "    local_variable = 42\n",
    "    print(local_variable)\n",
    "\n",
    "example_function()\n",
    "\n",
    "print(local_variable)  # This will cause a NameError because local_variable is not defined outside the function\n",
    "\n",
    "ouput:\n",
    "42\n",
    "NameError: name 'local_variable' is not defined\n",
    "\n",
    "\n",
    "\n",
    "\n",
    "\n",
    "\n",
    "This behavior helps ensure that functions do not interfere with each other's variables and keeps the program's memory usage efficient by freeing up space used by local variables once they are no longer needed.\n",
    "\n",
    "\n",
    "\n",
    "\n",
    "\n"
   ]
  },
  {
   "cell_type": "markdown",
   "id": "af443507",
   "metadata": {},
   "source": [
    "# Q-7 : What is the concept of a return value? Is it possible to have a return value in an expression?"
   ]
  },
  {
   "cell_type": "code",
   "execution_count": null,
   "id": "f3e2533e",
   "metadata": {},
   "outputs": [],
   "source": [
    "\n",
    "Concept of a Return Value\n",
    "A return value is the value that a function outputs when it completes its execution.\n",
    "When a function is called, it may perform some operations and then produce a result, which is \"returned\" to the caller using the return statement. \n",
    "The return value can be of any data type (e.g., integer, string, list, object) and can be used in further expressions or computations.\n",
    "\n",
    "Here's a simple example:\n",
    "\n",
    "def add(a, b):\n",
    "    return a + b\n",
    "\n",
    "result = add(3, 5)\n",
    "print(result)  # Output will be 8\n",
    "\n",
    "\n",
    "Using a Return Value in an Expression\n",
    "Yes, it is possible to use a return value in an expression directly. Since a return value is just the result produced by a function, it can be used anywhere an expression can be used.\n",
    "\n",
    "def multiply(a, b):\n",
    "    return a * b\n",
    "\n",
    "result = multiply(4, 5) + 10\n",
    "print(result)  # Output will be 30\n",
    "\n",
    "\n",
    "Use in a Conditional Expression\n",
    "def is_even(n):\n",
    "    return n % 2 == 0\n",
    "\n",
    "if is_even(10):\n",
    "    print(\"10 is even\")\n",
    "else:\n",
    "    print(\"10 is odd\")\n"
   ]
  },
  {
   "cell_type": "markdown",
   "id": "b39ad347",
   "metadata": {},
   "source": [
    "# Q-8 : If a function does not have a return statement, what is the return value of a call to that function?"
   ]
  },
  {
   "cell_type": "code",
   "execution_count": null,
   "id": "dbbf28f0",
   "metadata": {},
   "outputs": [],
   "source": [
    "If a function does not have a return statement, or if it has a return statement with no value (i.e., return by itself), the function returns None by default in Python.\n",
    "None is a special constant in Python that represents the absence of a value or a null value.\n",
    "\n",
    "Here's an example:\n",
    "\n",
    "def no_return_function():\n",
    "    pass\n",
    "\n",
    "result = no_return_function()\n",
    "print(result)  # Output will be None\n"
   ]
  },
  {
   "cell_type": "markdown",
   "id": "cf5995b0",
   "metadata": {},
   "source": [
    "# Q-9 : How do you make a function variable refer to the global variable?"
   ]
  },
  {
   "cell_type": "code",
   "execution_count": null,
   "id": "bec430b2",
   "metadata": {},
   "outputs": [],
   "source": [
    "To make a function variable refer to a global variable in Python, you can use the global keyword inside the function.\n",
    "This keyword tells the Python interpreter that the variable should be treated as a global variable, meaning it refers to the variable defined in the global scope rather than creating a new local variable.\n",
    "\n",
    "# Define a global variable\n",
    "counter = 0\n",
    "\n",
    "def increment_counter():\n",
    "    global counter  # Declare that we are using the global variable 'counter'\n",
    "    counter += 1    # Modify the global variable\n",
    "\n",
    "# Call the function a few times\n",
    "increment_counter()\n",
    "increment_counter()\n",
    "\n",
    "print(counter)  # Output will be 2\n"
   ]
  },
  {
   "cell_type": "markdown",
   "id": "27aee753",
   "metadata": {},
   "source": [
    "# Q-10 : What is the data type of None?"
   ]
  },
  {
   "cell_type": "code",
   "execution_count": null,
   "id": "d637f96f",
   "metadata": {},
   "outputs": [],
   "source": [
    "In Python, the data type of None is NoneType.\n",
    "None is a special constant in Python that represents the absence of a value or a null value.\n",
    "It is often used to signify that a variable has no value assigned to it, or to indicate the end of a list, the result of a function that does not explicitly return a value, or the initial state of a variable that will be assigned a value later.\n",
    "\n",
    "You can check the type of None using the built-in type function:\n",
    "\n",
    "print(type(None))  # Output will be <class 'NoneType'>\n"
   ]
  },
  {
   "cell_type": "markdown",
   "id": "90cb809b",
   "metadata": {},
   "source": [
    "# Q-11 : What does the sentence import areallyourpetsnamederic do?"
   ]
  },
  {
   "cell_type": "code",
   "execution_count": null,
   "id": "8372157a",
   "metadata": {},
   "outputs": [],
   "source": [
    "\n",
    "The sentence \"import areallyourpetsnamederic\" does not have a specific meaning in Python.\n",
    "However, it resembles a Python import statement, which is used to import modules or packages into a Python script or interactive session.\n",
    "\n",
    "import areallyourpetsnamederic\n",
    "\n",
    "areallyyourpetsnamederic.walk_dog()\n",
    "areallyyourpetsnamederic.feed_cat()\n",
    "\n",
    "\n",
    "In this hypothetical scenario, \"areallyourpetsnamederic\" could be a module containing functions like walk_dog() and feed_cat()."
   ]
  },
  {
   "cell_type": "markdown",
   "id": "7f8b1bd4",
   "metadata": {},
   "source": [
    "# Q-12 : If you had a bacon() feature in a spam module, what would you call it after importing spam?"
   ]
  },
  {
   "cell_type": "code",
   "execution_count": null,
   "id": "2cace501",
   "metadata": {},
   "outputs": [],
   "source": [
    "After importing the spam module, you would call the bacon() function by using dot notation, which allows you to access attributes (including functions) within the imported module.\n",
    "Here's how you would do it:\n",
    "\n",
    "import spam\n",
    "\n",
    "spam.bacon()\n",
    "\n",
    "\n",
    "This syntax ensures that you're accessing the bacon() function specifically from the spam module, allowing you to use functions and other attributes defined within that module in your Python script."
   ]
  },
  {
   "cell_type": "markdown",
   "id": "50ea1cee",
   "metadata": {},
   "source": [
    "# Q-13 : What can you do to save a programme from crashing if it encounters an error?"
   ]
  },
  {
   "cell_type": "code",
   "execution_count": null,
   "id": "0bd0fed7",
   "metadata": {},
   "outputs": [],
   "source": [
    "To prevent a program from crashing when it encounters an error, you can implement error handling techniques such as using try-except blocks, which allow you to gracefully handle exceptions without terminating the program abruptly.\n",
    "Here's how you can use try-except blocks:\n",
    "\n",
    "try:\n",
    "    # Code that may cause an error\n",
    "    result = 10 / 0  # This will raise a ZeroDivisionError\n",
    "except ZeroDivisionError:\n",
    "    # Code to handle the specific error\n",
    "    print(\"Error: Division by zero occurred.\")\n",
    "\n"
   ]
  },
  {
   "cell_type": "markdown",
   "id": "3a645d60",
   "metadata": {},
   "source": [
    "# Q-14 : What is the purpose of the try clause? What is the purpose of the except clause?"
   ]
  },
  {
   "cell_type": "code",
   "execution_count": null,
   "id": "aa4a6b8a",
   "metadata": {},
   "outputs": [],
   "source": [
    "\n",
    "The try and except clauses in Python are used together to implement error handling, allowing you to gracefully handle exceptions that may occur during the execution of your code.\n",
    "Here's a breakdown of their purposes:\n",
    "\n",
    "Purpose of the try Clause:\n",
    "Error-Prone Code: The try clause is used to enclose the code block where exceptions may occur, i.e., code that may raise an error.\n",
    "Attempt Execution: The statements within the try block are executed. If an error occurs during the execution of any statement within the try block, Python immediately stops executing the rest of the statements within the block and proceeds to the except block.\n",
    "Guarding Critical Code: You typically put the critical or potentially error-prone code inside the try block to guard against exceptions without crashing the program.\n",
    "\n",
    "Purpose of the except Clause:\n",
    "Exception Handling: The except clause is used to catch and handle exceptions raised within the try block.\n",
    "Specify Exception Types: You can specify the type of exception you want to catch in the except clause. If an exception of the specified type occurs, the corresponding except block is executed.\n",
    "Multiple Exceptions: You can have multiple except blocks to handle different types of exceptions or a single except block to handle any type of exception.\n",
    "Error Recovery: The statements within the except block provide the actions or code to execute if a specific exception occurs. This could include logging the error, displaying a user-friendly message, or taking corrective actions to recover from the error gracefully.    \n",
    "    "
   ]
  }
 ],
 "metadata": {
  "kernelspec": {
   "display_name": "Python 3 (ipykernel)",
   "language": "python",
   "name": "python3"
  },
  "language_info": {
   "codemirror_mode": {
    "name": "ipython",
    "version": 3
   },
   "file_extension": ".py",
   "mimetype": "text/x-python",
   "name": "python",
   "nbconvert_exporter": "python",
   "pygments_lexer": "ipython3",
   "version": "3.11.5"
  }
 },
 "nbformat": 4,
 "nbformat_minor": 5
}
